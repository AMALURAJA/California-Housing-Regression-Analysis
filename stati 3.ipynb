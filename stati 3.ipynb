{
 "cells": [
  {
   "cell_type": "code",
   "execution_count": 2,
   "id": "26ffaa51-7d09-48a6-b400-e5b25f5d1209",
   "metadata": {},
   "outputs": [],
   "source": [
    "#1"
   ]
  },
  {
   "cell_type": "code",
   "execution_count": 10,
   "id": "dde81688-1757-4b9c-9c03-bb1e38f15e02",
   "metadata": {},
   "outputs": [],
   "source": [
    "import pandas as pd\n",
    "import numpy as np\n",
    "from sklearn.datasets import fetch_california_housing\n",
    "from sklearn.model_selection import train_test_split\n",
    "from sklearn.preprocessing import StandardScaler\n",
    "from sklearn.linear_model import LinearRegression\n",
    "from sklearn.tree import DecisionTreeRegressor\n",
    "from sklearn.ensemble import RandomForestRegressor, GradientBoostingRegressor\n",
    "from sklearn.svm import SVR\n",
    "from sklearn.metrics import mean_squared_error, mean_absolute_error, r2_score\n"
   ]
  },
  {
   "cell_type": "code",
   "execution_count": 12,
   "id": "f3a082ef-f648-4290-9faf-63d23d280297",
   "metadata": {},
   "outputs": [
    {
     "name": "stdout",
     "output_type": "stream",
     "text": [
      "       MedInc  HouseAge  AveRooms  AveBedrms  Population  AveOccup  Latitude  \\\n",
      "0      8.3252      41.0  6.984127   1.023810       322.0  2.555556     37.88   \n",
      "1      8.3014      21.0  6.238137   0.971880      2401.0  2.109842     37.86   \n",
      "2      7.2574      52.0  8.288136   1.073446       496.0  2.802260     37.85   \n",
      "3      5.6431      52.0  5.817352   1.073059       558.0  2.547945     37.85   \n",
      "4      3.8462      52.0  6.281853   1.081081       565.0  2.181467     37.85   \n",
      "...       ...       ...       ...        ...         ...       ...       ...   \n",
      "20635  1.5603      25.0  5.045455   1.133333       845.0  2.560606     39.48   \n",
      "20636  2.5568      18.0  6.114035   1.315789       356.0  3.122807     39.49   \n",
      "20637  1.7000      17.0  5.205543   1.120092      1007.0  2.325635     39.43   \n",
      "20638  1.8672      18.0  5.329513   1.171920       741.0  2.123209     39.43   \n",
      "20639  2.3886      16.0  5.254717   1.162264      1387.0  2.616981     39.37   \n",
      "\n",
      "       Longitude  Target  \n",
      "0        -122.23   4.526  \n",
      "1        -122.22   3.585  \n",
      "2        -122.24   3.521  \n",
      "3        -122.25   3.413  \n",
      "4        -122.25   3.422  \n",
      "...          ...     ...  \n",
      "20635    -121.09   0.781  \n",
      "20636    -121.21   0.771  \n",
      "20637    -121.22   0.923  \n",
      "20638    -121.32   0.847  \n",
      "20639    -121.24   0.894  \n",
      "\n",
      "[20640 rows x 9 columns]\n"
     ]
    }
   ],
   "source": [
    "# Load the dataset\n",
    "data = fetch_california_housing()\n",
    "df = pd.DataFrame(data.data, columns=data.feature_names)\n",
    "df['Target'] = data.target\n",
    "print(df)"
   ]
  },
  {
   "cell_type": "code",
   "execution_count": 13,
   "id": "567c7051-93c9-4a91-af50-f16fce8c4ab3",
   "metadata": {},
   "outputs": [
    {
     "name": "stdout",
     "output_type": "stream",
     "text": [
      "Missing values:\n",
      "MedInc        0\n",
      "HouseAge      0\n",
      "AveRooms      0\n",
      "AveBedrms     0\n",
      "Population    0\n",
      "AveOccup      0\n",
      "Latitude      0\n",
      "Longitude     0\n",
      "Target        0\n",
      "dtype: int64\n"
     ]
    }
   ],
   "source": [
    "# Checking for missing values\n",
    "print(\"Missing values:\")\n",
    "print(df.isnull().sum())"
   ]
  },
  {
   "cell_type": "code",
   "execution_count": 14,
   "id": "fb7675e7-44eb-47e7-b63b-1aff034f12ce",
   "metadata": {},
   "outputs": [],
   "source": [
    "# Feature Scaling\n",
    "scaler = StandardScaler()\n",
    "df_scaled = pd.DataFrame(scaler.fit_transform(df), columns=df.columns)\n"
   ]
  },
  {
   "cell_type": "code",
   "execution_count": 15,
   "id": "be7f27db-be78-4359-82b1-6547273ac5c8",
   "metadata": {},
   "outputs": [
    {
     "name": "stdout",
     "output_type": "stream",
     "text": [
      "     MedInc  HouseAge  AveRooms  AveBedrms  Population  AveOccup  Latitude  \\\n",
      "0  2.344766  0.982143  0.628559  -0.153758   -0.974429 -0.049597  1.052548   \n",
      "1  2.332238 -0.607019  0.327041  -0.263336    0.861439 -0.092512  1.043185   \n",
      "2  1.782699  1.856182  1.155620  -0.049016   -0.820777 -0.025843  1.038503   \n",
      "3  0.932968  1.856182  0.156966  -0.049833   -0.766028 -0.050329  1.038503   \n",
      "4 -0.012881  1.856182  0.344711  -0.032906   -0.759847 -0.085616  1.038503   \n",
      "\n",
      "   Longitude    Target  \n",
      "0  -1.327835  2.129631  \n",
      "1  -1.322844  1.314156  \n",
      "2  -1.332827  1.258693  \n",
      "3  -1.337818  1.165100  \n",
      "4  -1.337818  1.172900  \n"
     ]
    }
   ],
   "source": [
    "print(df_scaled.head())"
   ]
  },
  {
   "cell_type": "code",
   "execution_count": 17,
   "id": "2ffdd69c-215b-4d97-b4b0-d149f3b0b657",
   "metadata": {},
   "outputs": [],
   "source": [
    "# Splitting data into training and testing sets\n",
    "X = df_scaled.drop(columns=['Target'])\n",
    "y = df_scaled['Target']\n",
    "X_train, X_test, y_train, y_test = train_test_split(X, y, test_size=0.2, random_state=42)"
   ]
  },
  {
   "cell_type": "code",
   "execution_count": 25,
   "id": "3a836096-becc-48e3-8754-dbab0270e275",
   "metadata": {},
   "outputs": [
    {
     "name": "stdout",
     "output_type": "stream",
     "text": [
      "{'Linear Regression': LinearRegression(), 'Decision Tree Regressor': DecisionTreeRegressor(), 'Random Forest Regressor': RandomForestRegressor(), 'Gradient Boosting Regressor': GradientBoostingRegressor(), 'Support Vector Regressor': SVR()}\n"
     ]
    }
   ],
   "source": [
    "# Define models\n",
    "models = {\n",
    "    \"Linear Regression\": LinearRegression(),\n",
    "    \"Decision Tree Regressor\": DecisionTreeRegressor(),\n",
    "    \"Random Forest Regressor\": RandomForestRegressor(),\n",
    "    \"Gradient Boosting Regressor\": GradientBoostingRegressor(),\n",
    "    \"Support Vector Regressor\": SVR()\n",
    "}\n",
    "print(models)"
   ]
  },
  {
   "cell_type": "code",
   "execution_count": 26,
   "id": "ab5fe3cb-e850-4e2d-8889-a9b33411f216",
   "metadata": {},
   "outputs": [
    {
     "name": "stdout",
     "output_type": "stream",
     "text": [
      "{'Linear Regression': {'MSE': 0.41747698052494986, 'MAE': 0.46207392160821764, 'R2 Score': 0.575787706032451}}\n",
      "{'Linear Regression': {'MSE': 0.41747698052494986, 'MAE': 0.46207392160821764, 'R2 Score': 0.575787706032451}, 'Decision Tree Regressor': {'MSE': 0.37587369355211436, 'MAE': 0.3952482583321125, 'R2 Score': 0.6180621945111806}}\n",
      "{'Linear Regression': {'MSE': 0.41747698052494986, 'MAE': 0.46207392160821764, 'R2 Score': 0.575787706032451}, 'Decision Tree Regressor': {'MSE': 0.37587369355211436, 'MAE': 0.3952482583321125, 'R2 Score': 0.6180621945111806}, 'Random Forest Regressor': {'MSE': 0.19153462897515125, 'MAE': 0.2831715360628276, 'R2 Score': 0.8053752706805437}}\n",
      "{'Linear Regression': {'MSE': 0.41747698052494986, 'MAE': 0.46207392160821764, 'R2 Score': 0.575787706032451}, 'Decision Tree Regressor': {'MSE': 0.37587369355211436, 'MAE': 0.3952482583321125, 'R2 Score': 0.6180621945111806}, 'Random Forest Regressor': {'MSE': 0.19153462897515125, 'MAE': 0.2831715360628276, 'R2 Score': 0.8053752706805437}, 'Gradient Boosting Regressor': {'MSE': 0.22079452229981855, 'MAE': 0.3220741526056764, 'R2 Score': 0.7756433164710084}}\n",
      "{'Linear Regression': {'MSE': 0.41747698052494986, 'MAE': 0.46207392160821764, 'R2 Score': 0.575787706032451}, 'Decision Tree Regressor': {'MSE': 0.37587369355211436, 'MAE': 0.3952482583321125, 'R2 Score': 0.6180621945111806}, 'Random Forest Regressor': {'MSE': 0.19153462897515125, 'MAE': 0.2831715360628276, 'R2 Score': 0.8053752706805437}, 'Gradient Boosting Regressor': {'MSE': 0.22079452229981855, 'MAE': 0.3220741526056764, 'R2 Score': 0.7756433164710084}, 'Support Vector Regressor': {'MSE': 0.2643983636325156, 'MAE': 0.34331371235964975, 'R2 Score': 0.7313359979350706}}\n"
     ]
    }
   ],
   "source": [
    "# Training and evaluating models\n",
    "results = {}\n",
    "for name, model in models.items():\n",
    "    model.fit(X_train, y_train)\n",
    "    y_pred = model.predict(X_test)\n",
    "    mse = mean_squared_error(y_test, y_pred)\n",
    "    mae = mean_absolute_error(y_test, y_pred)\n",
    "    r2 = r2_score(y_test, y_pred)\n",
    "    results[name] = {'MSE': mse, 'MAE': mae, 'R2 Score': r2}\n",
    "    print(results)"
   ]
  },
  {
   "cell_type": "code",
   "execution_count": 29,
   "id": "36165239-04bd-41aa-97e0-4b9b28c4e4a7",
   "metadata": {},
   "outputs": [
    {
     "name": "stdout",
     "output_type": "stream",
     "text": [
      "                                  MSE       MAE  R2 Score\n",
      "Linear Regression            0.417477  0.462074  0.575788\n",
      "Decision Tree Regressor      0.375874  0.395248  0.618062\n",
      "Random Forest Regressor      0.191535  0.283172  0.805375\n",
      "Gradient Boosting Regressor  0.220795  0.322074  0.775643\n",
      "Support Vector Regressor     0.264398  0.343314  0.731336\n"
     ]
    }
   ],
   "source": [
    "# Convert results into a DataFrame\n",
    "results_df = pd.DataFrame(results).T\n",
    "print(results_df)"
   ]
  },
  {
   "cell_type": "code",
   "execution_count": 30,
   "id": "05a5354a-2686-4abf-94b3-0e472d498a4c",
   "metadata": {},
   "outputs": [],
   "source": [
    "# Identifying best and worst performing models\n",
    "best_model = results_df['R2 Score'].idxmax()\n",
    "worst_model = results_df['R2 Score'].idxmin()"
   ]
  },
  {
   "cell_type": "code",
   "execution_count": 28,
   "id": "5ec64508-da4c-4ecc-8af3-8389838b2d57",
   "metadata": {},
   "outputs": [
    {
     "name": "stdout",
     "output_type": "stream",
     "text": [
      "Best performing model: Random Forest Regressor\n",
      "Worst performing model: Linear Regression\n"
     ]
    }
   ],
   "source": [
    "print(f\"Best performing model: {best_model}\")\n",
    "print(f\"Worst performing model: {worst_model}\")"
   ]
  },
  {
   "cell_type": "code",
   "execution_count": null,
   "id": "630a386b-3dec-4201-9d08-3f4708807215",
   "metadata": {},
   "outputs": [],
   "source": []
  },
  {
   "cell_type": "code",
   "execution_count": null,
   "id": "4af5a9ff-ffb4-433a-8de6-84a0ad47a1d6",
   "metadata": {},
   "outputs": [],
   "source": []
  }
 ],
 "metadata": {
  "kernelspec": {
   "display_name": "Python 3 (ipykernel)",
   "language": "python",
   "name": "python3"
  },
  "language_info": {
   "codemirror_mode": {
    "name": "ipython",
    "version": 3
   },
   "file_extension": ".py",
   "mimetype": "text/x-python",
   "name": "python",
   "nbconvert_exporter": "python",
   "pygments_lexer": "ipython3",
   "version": "3.11.7"
  }
 },
 "nbformat": 4,
 "nbformat_minor": 5
}
